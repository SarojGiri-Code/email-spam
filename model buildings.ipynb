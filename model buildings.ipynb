{
 "cells": [
  {
   "cell_type": "code",
   "execution_count": 1,
   "id": "98291a27",
   "metadata": {},
   "outputs": [],
   "source": [
    "import pandas as pd\n",
    "import numpy as np"
   ]
  },
  {
   "cell_type": "code",
   "execution_count": 2,
   "id": "28f686d9",
   "metadata": {},
   "outputs": [
    {
     "data": {
      "text/html": [
       "<div>\n",
       "<style scoped>\n",
       "    .dataframe tbody tr th:only-of-type {\n",
       "        vertical-align: middle;\n",
       "    }\n",
       "\n",
       "    .dataframe tbody tr th {\n",
       "        vertical-align: top;\n",
       "    }\n",
       "\n",
       "    .dataframe thead th {\n",
       "        text-align: right;\n",
       "    }\n",
       "</style>\n",
       "<table border=\"1\" class=\"dataframe\">\n",
       "  <thead>\n",
       "    <tr style=\"text-align: right;\">\n",
       "      <th></th>\n",
       "      <th>Unnamed: 0</th>\n",
       "      <th>target</th>\n",
       "      <th>message</th>\n",
       "      <th>num_characters</th>\n",
       "      <th>num_words</th>\n",
       "      <th>num_sentence</th>\n",
       "      <th>transformed_text</th>\n",
       "    </tr>\n",
       "  </thead>\n",
       "  <tbody>\n",
       "    <tr>\n",
       "      <th>0</th>\n",
       "      <td>0</td>\n",
       "      <td>0</td>\n",
       "      <td>\"Go until jurong point, crazy.. Available only...</td>\n",
       "      <td>113</td>\n",
       "      <td>26</td>\n",
       "      <td>2</td>\n",
       "      <td>go jurong point crazi avail bugi n great world...</td>\n",
       "    </tr>\n",
       "    <tr>\n",
       "      <th>1</th>\n",
       "      <td>1</td>\n",
       "      <td>0</td>\n",
       "      <td>Ok lar... Joking wif u oni...</td>\n",
       "      <td>29</td>\n",
       "      <td>8</td>\n",
       "      <td>2</td>\n",
       "      <td>ok lar joke wif u oni</td>\n",
       "    </tr>\n",
       "    <tr>\n",
       "      <th>2</th>\n",
       "      <td>2</td>\n",
       "      <td>1</td>\n",
       "      <td>Free entry in 2 a wkly comp to win FA Cup fina...</td>\n",
       "      <td>155</td>\n",
       "      <td>37</td>\n",
       "      <td>2</td>\n",
       "      <td>free entri 2 wkli comp win fa cup final tkt 21...</td>\n",
       "    </tr>\n",
       "    <tr>\n",
       "      <th>3</th>\n",
       "      <td>3</td>\n",
       "      <td>0</td>\n",
       "      <td>U dun say so early hor... U c already then say...</td>\n",
       "      <td>49</td>\n",
       "      <td>13</td>\n",
       "      <td>1</td>\n",
       "      <td>u dun say earli hor u c alreadi say</td>\n",
       "    </tr>\n",
       "    <tr>\n",
       "      <th>4</th>\n",
       "      <td>4</td>\n",
       "      <td>0</td>\n",
       "      <td>\"Nah I don't think he goes to usf, he lives ar...</td>\n",
       "      <td>63</td>\n",
       "      <td>17</td>\n",
       "      <td>1</td>\n",
       "      <td>nah think goe usf live around though</td>\n",
       "    </tr>\n",
       "  </tbody>\n",
       "</table>\n",
       "</div>"
      ],
      "text/plain": [
       "   Unnamed: 0  target                                            message  \\\n",
       "0           0       0  \"Go until jurong point, crazy.. Available only...   \n",
       "1           1       0                      Ok lar... Joking wif u oni...   \n",
       "2           2       1  Free entry in 2 a wkly comp to win FA Cup fina...   \n",
       "3           3       0  U dun say so early hor... U c already then say...   \n",
       "4           4       0  \"Nah I don't think he goes to usf, he lives ar...   \n",
       "\n",
       "   num_characters  num_words  num_sentence  \\\n",
       "0             113         26             2   \n",
       "1              29          8             2   \n",
       "2             155         37             2   \n",
       "3              49         13             1   \n",
       "4              63         17             1   \n",
       "\n",
       "                                    transformed_text  \n",
       "0  go jurong point crazi avail bugi n great world...  \n",
       "1                              ok lar joke wif u oni  \n",
       "2  free entri 2 wkli comp win fa cup final tkt 21...  \n",
       "3                u dun say earli hor u c alreadi say  \n",
       "4               nah think goe usf live around though  "
      ]
     },
     "execution_count": 2,
     "metadata": {},
     "output_type": "execute_result"
    }
   ],
   "source": [
    "df=pd.read_csv(\"E:\\\\6th semmmm\\\\spam\\\\final_clean.csv\")\n",
    "df.head()"
   ]
  },
  {
   "cell_type": "code",
   "execution_count": 3,
   "id": "ad47a6dd",
   "metadata": {},
   "outputs": [],
   "source": [
    "df.drop(columns='Unnamed: 0',inplace=True)"
   ]
  },
  {
   "cell_type": "code",
   "execution_count": 4,
   "id": "5dc999ef",
   "metadata": {},
   "outputs": [
    {
     "data": {
      "text/html": [
       "<div>\n",
       "<style scoped>\n",
       "    .dataframe tbody tr th:only-of-type {\n",
       "        vertical-align: middle;\n",
       "    }\n",
       "\n",
       "    .dataframe tbody tr th {\n",
       "        vertical-align: top;\n",
       "    }\n",
       "\n",
       "    .dataframe thead th {\n",
       "        text-align: right;\n",
       "    }\n",
       "</style>\n",
       "<table border=\"1\" class=\"dataframe\">\n",
       "  <thead>\n",
       "    <tr style=\"text-align: right;\">\n",
       "      <th></th>\n",
       "      <th>target</th>\n",
       "      <th>message</th>\n",
       "      <th>num_characters</th>\n",
       "      <th>num_words</th>\n",
       "      <th>num_sentence</th>\n",
       "      <th>transformed_text</th>\n",
       "    </tr>\n",
       "  </thead>\n",
       "  <tbody>\n",
       "    <tr>\n",
       "      <th>0</th>\n",
       "      <td>0</td>\n",
       "      <td>\"Go until jurong point, crazy.. Available only...</td>\n",
       "      <td>113</td>\n",
       "      <td>26</td>\n",
       "      <td>2</td>\n",
       "      <td>go jurong point crazi avail bugi n great world...</td>\n",
       "    </tr>\n",
       "    <tr>\n",
       "      <th>1</th>\n",
       "      <td>0</td>\n",
       "      <td>Ok lar... Joking wif u oni...</td>\n",
       "      <td>29</td>\n",
       "      <td>8</td>\n",
       "      <td>2</td>\n",
       "      <td>ok lar joke wif u oni</td>\n",
       "    </tr>\n",
       "    <tr>\n",
       "      <th>2</th>\n",
       "      <td>1</td>\n",
       "      <td>Free entry in 2 a wkly comp to win FA Cup fina...</td>\n",
       "      <td>155</td>\n",
       "      <td>37</td>\n",
       "      <td>2</td>\n",
       "      <td>free entri 2 wkli comp win fa cup final tkt 21...</td>\n",
       "    </tr>\n",
       "    <tr>\n",
       "      <th>3</th>\n",
       "      <td>0</td>\n",
       "      <td>U dun say so early hor... U c already then say...</td>\n",
       "      <td>49</td>\n",
       "      <td>13</td>\n",
       "      <td>1</td>\n",
       "      <td>u dun say earli hor u c alreadi say</td>\n",
       "    </tr>\n",
       "    <tr>\n",
       "      <th>4</th>\n",
       "      <td>0</td>\n",
       "      <td>\"Nah I don't think he goes to usf, he lives ar...</td>\n",
       "      <td>63</td>\n",
       "      <td>17</td>\n",
       "      <td>1</td>\n",
       "      <td>nah think goe usf live around though</td>\n",
       "    </tr>\n",
       "  </tbody>\n",
       "</table>\n",
       "</div>"
      ],
      "text/plain": [
       "   target                                            message  num_characters  \\\n",
       "0       0  \"Go until jurong point, crazy.. Available only...             113   \n",
       "1       0                      Ok lar... Joking wif u oni...              29   \n",
       "2       1  Free entry in 2 a wkly comp to win FA Cup fina...             155   \n",
       "3       0  U dun say so early hor... U c already then say...              49   \n",
       "4       0  \"Nah I don't think he goes to usf, he lives ar...              63   \n",
       "\n",
       "   num_words  num_sentence                                   transformed_text  \n",
       "0         26             2  go jurong point crazi avail bugi n great world...  \n",
       "1          8             2                              ok lar joke wif u oni  \n",
       "2         37             2  free entri 2 wkli comp win fa cup final tkt 21...  \n",
       "3         13             1                u dun say earli hor u c alreadi say  \n",
       "4         17             1               nah think goe usf live around though  "
      ]
     },
     "execution_count": 4,
     "metadata": {},
     "output_type": "execute_result"
    }
   ],
   "source": [
    "df.head()"
   ]
  },
  {
   "cell_type": "code",
   "execution_count": 10,
   "id": "8ec74c1a",
   "metadata": {},
   "outputs": [],
   "source": [
    "df['transformed_text'].fillna('missing',inplace=True)"
   ]
  },
  {
   "cell_type": "markdown",
   "id": "27536c86",
   "metadata": {},
   "source": [
    "# model buildings"
   ]
  },
  {
   "cell_type": "code",
   "execution_count": 11,
   "id": "e716770e",
   "metadata": {},
   "outputs": [
    {
     "name": "stdout",
     "output_type": "stream",
     "text": [
      " imported sucessfully\n"
     ]
    }
   ],
   "source": [
    "# applying the bag of words\n",
    "from sklearn.feature_extraction.text import CountVectorizer\n",
    "cv=CountVectorizer()\n",
    "print(\" imported sucessfully\")"
   ]
  },
  {
   "cell_type": "code",
   "execution_count": 6,
   "id": "a7bac291",
   "metadata": {},
   "outputs": [],
   "source": [
    "import warnings\n",
    "warnings.filterwarnings('ignore')\n"
   ]
  },
  {
   "cell_type": "code",
   "execution_count": 12,
   "id": "b73965b6",
   "metadata": {},
   "outputs": [
    {
     "name": "stdout",
     "output_type": "stream",
     "text": [
      " converted sucessfully\n"
     ]
    }
   ],
   "source": [
    "x=cv.fit_transform(df['transformed_text']).toarray()\n",
    "print(\" converted sucessfully\")"
   ]
  },
  {
   "cell_type": "code",
   "execution_count": 13,
   "id": "3c385fb9",
   "metadata": {},
   "outputs": [
    {
     "data": {
      "text/plain": [
       "(5126, 6645)"
      ]
     },
     "execution_count": 13,
     "metadata": {},
     "output_type": "execute_result"
    }
   ],
   "source": [
    "x.shape"
   ]
  },
  {
   "cell_type": "code",
   "execution_count": 14,
   "id": "c910b4cf",
   "metadata": {},
   "outputs": [],
   "source": [
    "y=df['target'].values"
   ]
  },
  {
   "cell_type": "code",
   "execution_count": 17,
   "id": "b53e1c59",
   "metadata": {},
   "outputs": [
    {
     "data": {
      "text/plain": [
       "(5126,)"
      ]
     },
     "execution_count": 17,
     "metadata": {},
     "output_type": "execute_result"
    }
   ],
   "source": [
    "y.shape"
   ]
  },
  {
   "cell_type": "code",
   "execution_count": 18,
   "id": "b9cb67d4",
   "metadata": {},
   "outputs": [],
   "source": [
    "# train tests splits\n",
    "from sklearn.model_selection import train_test_split\n",
    "X_train,X_test,y_train,y_test=train_test_split(x,y,test_size=0.2,random_state=2)"
   ]
  },
  {
   "cell_type": "code",
   "execution_count": 22,
   "id": "402202d1",
   "metadata": {},
   "outputs": [
    {
     "data": {
      "text/plain": [
       "((4100, 6645), (1026, 6645), (4100,), (1026,))"
      ]
     },
     "execution_count": 22,
     "metadata": {},
     "output_type": "execute_result"
    }
   ],
   "source": [
    "X_train.shape,X_test.shape,y_train.shape,y_test.shape"
   ]
  },
  {
   "cell_type": "code",
   "execution_count": 25,
   "id": "5851ff82",
   "metadata": {},
   "outputs": [],
   "source": [
    "# imports the models\n",
    "from sklearn.naive_bayes import GaussianNB, MultinomialNB, BernoulliNB\n",
    "from sklearn.metrics import accuracy_score,confusion_matrix,precision_score\n"
   ]
  },
  {
   "cell_type": "code",
   "execution_count": 26,
   "id": "d8d1de86",
   "metadata": {},
   "outputs": [],
   "source": [
    "gnb=GaussianNB()\n",
    "mnb=MultinomialNB()\n",
    "bnb=BernoulliNB()\n"
   ]
  },
  {
   "cell_type": "code",
   "execution_count": 28,
   "id": "e15edd27",
   "metadata": {},
   "outputs": [
    {
     "name": "stdout",
     "output_type": "stream",
     "text": [
      "0.8674463937621832\n",
      "[[790 116]\n",
      " [ 20 100]]\n",
      "0.46296296296296297\n"
     ]
    }
   ],
   "source": [
    "gnb.fit(X_train,y_train)\n",
    "y_pred1=gnb.predict(X_test)\n",
    "print(accuracy_score(y_test,y_pred1))\n",
    "print(confusion_matrix(y_test,y_pred1))\n",
    "print(precision_score(y_test,y_pred1))"
   ]
  },
  {
   "cell_type": "code",
   "execution_count": 30,
   "id": "6fefef70",
   "metadata": {},
   "outputs": [
    {
     "name": "stdout",
     "output_type": "stream",
     "text": [
      "0.9756335282651072\n",
      "[[891  15]\n",
      " [ 10 110]]\n",
      "0.88\n"
     ]
    }
   ],
   "source": [
    "mnb.fit(X_train,y_train)\n",
    "y_pred2=mnb.predict(X_test)\n",
    "print(accuracy_score(y_test,y_pred2))\n",
    "print(confusion_matrix(y_test,y_pred2))\n",
    "print(precision_score(y_test,y_pred2))"
   ]
  },
  {
   "cell_type": "code",
   "execution_count": 31,
   "id": "61b975b1",
   "metadata": {},
   "outputs": [
    {
     "name": "stdout",
     "output_type": "stream",
     "text": [
      "0.9678362573099415\n",
      "[[901   5]\n",
      " [ 28  92]]\n",
      "0.9484536082474226\n"
     ]
    }
   ],
   "source": [
    "bnb.fit(X_train,y_train)\n",
    "y_pred3=bnb.predict(X_test)\n",
    "print(accuracy_score(y_test,y_pred3))\n",
    "print(confusion_matrix(y_test,y_pred3))\n",
    "print(precision_score(y_test,y_pred3))"
   ]
  },
  {
   "cell_type": "markdown",
   "id": "c88a21b9",
   "metadata": {},
   "source": [
    "# applly for the tfidf"
   ]
  },
  {
   "cell_type": "code",
   "execution_count": 34,
   "id": "ff5bcbd8",
   "metadata": {},
   "outputs": [],
   "source": [
    "from sklearn.feature_extraction.text import TfidfVectorizer\n",
    "tfidf=TfidfVectorizer()"
   ]
  },
  {
   "cell_type": "code",
   "execution_count": 35,
   "id": "bde8fb1c",
   "metadata": {},
   "outputs": [],
   "source": [
    "TF_x=tfidf.fit_transform(df['transformed_text']).toarray()\n"
   ]
  },
  {
   "cell_type": "code",
   "execution_count": 36,
   "id": "7163e38b",
   "metadata": {},
   "outputs": [
    {
     "data": {
      "text/plain": [
       "(5126, 6645)"
      ]
     },
     "execution_count": 36,
     "metadata": {},
     "output_type": "execute_result"
    }
   ],
   "source": [
    "TF_x.shape"
   ]
  },
  {
   "cell_type": "code",
   "execution_count": 37,
   "id": "76fa353e",
   "metadata": {},
   "outputs": [],
   "source": [
    "TF_y=df['target'].values"
   ]
  },
  {
   "cell_type": "code",
   "execution_count": 38,
   "id": "729f5f9c",
   "metadata": {},
   "outputs": [
    {
     "data": {
      "text/plain": [
       "(5126,)"
      ]
     },
     "execution_count": 38,
     "metadata": {},
     "output_type": "execute_result"
    }
   ],
   "source": [
    "TF_y.shape"
   ]
  },
  {
   "cell_type": "code",
   "execution_count": 39,
   "id": "601874ca",
   "metadata": {},
   "outputs": [],
   "source": [
    "x_train,x_test,y__train,y__test=train_test_split(TF_x,TF_y,test_size=0.2,random_state=5)"
   ]
  },
  {
   "cell_type": "code",
   "execution_count": 40,
   "id": "fefb2126",
   "metadata": {},
   "outputs": [
    {
     "name": "stdout",
     "output_type": "stream",
     "text": [
      "0.8791423001949318\n",
      "[[778  98]\n",
      " [ 26 124]]\n",
      "0.5585585585585585\n"
     ]
    }
   ],
   "source": [
    "gnb.fit(x_train,y__train)\n",
    "y__pred1=gnb.predict(x_test)\n",
    "print(accuracy_score(y__test,y__pred1))\n",
    "print(confusion_matrix(y__test,y__pred1))\n",
    "print(precision_score(y__test,y__pred1))"
   ]
  },
  {
   "cell_type": "code",
   "execution_count": 41,
   "id": "9234c31f",
   "metadata": {},
   "outputs": [
    {
     "name": "stdout",
     "output_type": "stream",
     "text": [
      "0.9571150097465887\n",
      "[[876   0]\n",
      " [ 44 106]]\n",
      "1.0\n"
     ]
    }
   ],
   "source": [
    "mnb.fit(x_train,y__train)\n",
    "y__pred2=mnb.predict(x_test)\n",
    "print(accuracy_score(y__test,y__pred2))\n",
    "print(confusion_matrix(y__test,y__pred2))\n",
    "print(precision_score(y__test,y__pred2))"
   ]
  },
  {
   "cell_type": "code",
   "execution_count": 42,
   "id": "4ffaa1e2",
   "metadata": {},
   "outputs": [
    {
     "name": "stdout",
     "output_type": "stream",
     "text": [
      "0.9717348927875243\n",
      "[[873   3]\n",
      " [ 26 124]]\n",
      "0.9763779527559056\n"
     ]
    }
   ],
   "source": [
    "bnb.fit(X_train,y_train)\n",
    "y__pred3=bnb.predict(x_test)\n",
    "print(accuracy_score(y__test,y__pred3))\n",
    "print(confusion_matrix(y__test,y__pred3))\n",
    "print(precision_score(y__test,y__pred3))"
   ]
  },
  {
   "cell_type": "code",
   "execution_count": 50,
   "id": "8c50b778",
   "metadata": {},
   "outputs": [],
   "source": [
    "# tfidf- mnb\n",
    "\n",
    "from nltk.corpus import stopwords\n",
    "import string\n",
    "from nltk.stem.porter import PorterStemmer\n",
    "import nltk\n",
    "import string\n",
    "def transform_text(text):\n",
    "    ps=PorterStemmer()\n",
    "    text=text.lower() \n",
    "    text=nltk.word_tokenize(text)\n",
    "    y=[]\n",
    "    for i in text:\n",
    "        if i.isalnum():\n",
    "            y.append(i)\n",
    "    text=y[:]\n",
    "    y.clear()\n",
    "    \n",
    "    for i in text:\n",
    "        if i not in stopwords.words('english') and i not in string.punctuation:\n",
    "            y.append(i)\n",
    "    text=y[:]\n",
    "    y.clear()\n",
    "    \n",
    "    for i in text:\n",
    "        y.append(ps.stem(i))\n",
    "        \n",
    "    return ' '.join(y)"
   ]
  },
  {
   "cell_type": "code",
   "execution_count": 52,
   "id": "45d98e94",
   "metadata": {},
   "outputs": [
    {
     "data": {
      "text/plain": [
       "'hellow world mother hellow sweet hard'"
      ]
     },
     "execution_count": 52,
     "metadata": {},
     "output_type": "execute_result"
    }
   ],
   "source": [
    "\n",
    "transform_text(' hellow my world you are my mother hellow sweet hards')"
   ]
  },
  {
   "cell_type": "code",
   "execution_count": 74,
   "id": "1d240239",
   "metadata": {},
   "outputs": [],
   "source": [
    "class datapreprocess:\n",
    "    def __init__(self,text):\n",
    "        self.message=text\n",
    "        self.preprocess()\n",
    "    \n",
    "    def preprocess(self):\n",
    "        ps=PorterStemmer()\n",
    "        self.message=self.message.lower() # convert all the cgaracters into the lower cases \n",
    "        self.message=nltk.word_tokenize(self.message)\n",
    "        y=[]\n",
    "        for i in self.message:\n",
    "            if i.isalnum():\n",
    "                y.append(i)\n",
    "        text=y[:]\n",
    "        y.clear()\n",
    "    \n",
    "        for i in self.message:\n",
    "            if i not in stopwords.words('english') and i not in string.punctuation:\n",
    "                y.append(i)\n",
    "        text=y[:]\n",
    "        y.clear()\n",
    "    \n",
    "        for i in text:\n",
    "            y.append(ps.stem(i))\n",
    "        \n",
    "        return ' '.join(y)\n",
    "        "
   ]
  },
  {
   "cell_type": "code",
   "execution_count": null,
   "id": "f2e502bc",
   "metadata": {},
   "outputs": [],
   "source": []
  }
 ],
 "metadata": {
  "kernelspec": {
   "display_name": "Python 3 (ipykernel)",
   "language": "python",
   "name": "python3"
  },
  "language_info": {
   "codemirror_mode": {
    "name": "ipython",
    "version": 3
   },
   "file_extension": ".py",
   "mimetype": "text/x-python",
   "name": "python",
   "nbconvert_exporter": "python",
   "pygments_lexer": "ipython3",
   "version": "3.9.13"
  }
 },
 "nbformat": 4,
 "nbformat_minor": 5
}
